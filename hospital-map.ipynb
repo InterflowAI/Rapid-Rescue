{
 "cells": [
  {
   "cell_type": "code",
   "execution_count": 2,
   "metadata": {},
   "outputs": [
    {
     "name": "stdout",
     "output_type": "stream",
     "text": [
      "Defaulting to user installation because normal site-packages is not writeable\n",
      "Requirement already satisfied: requests in c:\\programdata\\anaconda3\\lib\\site-packages (2.31.0)\n",
      "Requirement already satisfied: charset-normalizer<4,>=2 in c:\\users\\praji\\appdata\\roaming\\python\\python311\\site-packages (from requests) (3.3.2)\n",
      "Requirement already satisfied: idna<4,>=2.5 in c:\\programdata\\anaconda3\\lib\\site-packages (from requests) (3.4)\n",
      "Requirement already satisfied: urllib3<3,>=1.21.1 in c:\\users\\praji\\appdata\\roaming\\python\\python311\\site-packages (from requests) (2.2.1)\n",
      "Requirement already satisfied: certifi>=2017.4.17 in c:\\programdata\\anaconda3\\lib\\site-packages (from requests) (2023.7.22)\n",
      "Defaulting to user installation because normal site-packages is not writeable\n",
      "Collecting geopy\n",
      "  Obtaining dependency information for geopy from https://files.pythonhosted.org/packages/e5/15/cf2a69ade4b194aa524ac75112d5caac37414b20a3a03e6865dfe0bd1539/geopy-2.4.1-py3-none-any.whl.metadata\n",
      "  Downloading geopy-2.4.1-py3-none-any.whl.metadata (6.8 kB)\n",
      "Collecting geographiclib<3,>=1.52 (from geopy)\n",
      "  Obtaining dependency information for geographiclib<3,>=1.52 from https://files.pythonhosted.org/packages/9f/5a/a26132406f1f40cf51ea349a5f11b0a46cec02a2031ff82e391c2537247a/geographiclib-2.0-py3-none-any.whl.metadata\n",
      "  Downloading geographiclib-2.0-py3-none-any.whl.metadata (1.4 kB)\n",
      "Downloading geopy-2.4.1-py3-none-any.whl (125 kB)\n",
      "   ---------------------------------------- 0.0/125.4 kB ? eta -:--:--\n",
      "   --- ------------------------------------ 10.2/125.4 kB ? eta -:--:--\n",
      "   --------- ----------------------------- 30.7/125.4 kB 660.6 kB/s eta 0:00:01\n",
      "   --------- ----------------------------- 30.7/125.4 kB 660.6 kB/s eta 0:00:01\n",
      "   ------------ -------------------------- 41.0/125.4 kB 217.9 kB/s eta 0:00:01\n",
      "   ---------------------------- ---------- 92.2/125.4 kB 525.1 kB/s eta 0:00:01\n",
      "   ---------------------------- ---------- 92.2/125.4 kB 525.1 kB/s eta 0:00:01\n",
      "   -------------------------------------- 125.4/125.4 kB 410.0 kB/s eta 0:00:00\n",
      "Downloading geographiclib-2.0-py3-none-any.whl (40 kB)\n",
      "   ---------------------------------------- 0.0/40.3 kB ? eta -:--:--\n",
      "   ---------------------------------------- 40.3/40.3 kB ? eta 0:00:00\n",
      "Installing collected packages: geographiclib, geopy\n",
      "Successfully installed geographiclib-2.0 geopy-2.4.1\n"
     ]
    }
   ],
   "source": [
    "!pip install requests\n",
    "!pip install geopy\n"
   ]
  },
  {
   "cell_type": "code",
   "execution_count": 9,
   "metadata": {},
   "outputs": [],
   "source": [
    "user_latitude = 11.0920 # Example latitude\n",
    "user_longitude = 76.9524  # Example longitude\n"
   ]
  },
  {
   "cell_type": "code",
   "execution_count": 20,
   "metadata": {},
   "outputs": [
    {
     "name": "stdout",
     "output_type": "stream",
     "text": [
      "Defaulting to user installation because normal site-packages is not writeable\n",
      "Collecting geocoder\n",
      "  Obtaining dependency information for geocoder from https://files.pythonhosted.org/packages/4f/6b/13166c909ad2f2d76b929a4227c952630ebaf0d729f6317eb09cbceccbab/geocoder-1.38.1-py2.py3-none-any.whl.metadata\n",
      "  Downloading geocoder-1.38.1-py2.py3-none-any.whl.metadata (14 kB)\n",
      "Requirement already satisfied: click in c:\\users\\praji\\appdata\\roaming\\python\\python311\\site-packages (from geocoder) (8.1.7)\n",
      "Requirement already satisfied: future in c:\\programdata\\anaconda3\\lib\\site-packages (from geocoder) (0.18.3)\n",
      "Collecting ratelim (from geocoder)\n",
      "  Obtaining dependency information for ratelim from https://files.pythonhosted.org/packages/f2/98/7e6d147fd16a10a5f821db6e25f192265d6ecca3d82957a4fdd592cad49c/ratelim-0.1.6-py2.py3-none-any.whl.metadata\n",
      "  Downloading ratelim-0.1.6-py2.py3-none-any.whl.metadata (1.4 kB)\n",
      "Requirement already satisfied: requests in c:\\programdata\\anaconda3\\lib\\site-packages (from geocoder) (2.31.0)\n",
      "Requirement already satisfied: six in c:\\programdata\\anaconda3\\lib\\site-packages (from geocoder) (1.16.0)\n",
      "Requirement already satisfied: colorama in c:\\programdata\\anaconda3\\lib\\site-packages (from click->geocoder) (0.4.6)\n",
      "Requirement already satisfied: decorator in c:\\programdata\\anaconda3\\lib\\site-packages (from ratelim->geocoder) (5.1.1)\n",
      "Requirement already satisfied: charset-normalizer<4,>=2 in c:\\users\\praji\\appdata\\roaming\\python\\python311\\site-packages (from requests->geocoder) (3.3.2)\n",
      "Requirement already satisfied: idna<4,>=2.5 in c:\\programdata\\anaconda3\\lib\\site-packages (from requests->geocoder) (3.4)\n",
      "Requirement already satisfied: urllib3<3,>=1.21.1 in c:\\users\\praji\\appdata\\roaming\\python\\python311\\site-packages (from requests->geocoder) (2.2.1)\n",
      "Requirement already satisfied: certifi>=2017.4.17 in c:\\programdata\\anaconda3\\lib\\site-packages (from requests->geocoder) (2023.7.22)\n",
      "Downloading geocoder-1.38.1-py2.py3-none-any.whl (98 kB)\n",
      "   ---------------------------------------- 0.0/98.6 kB ? eta -:--:--\n",
      "   ------------ --------------------------- 30.7/98.6 kB ? eta -:--:--\n",
      "   ------------------------------------- -- 92.2/98.6 kB 871.5 kB/s eta 0:00:01\n",
      "   ---------------------------------------- 98.6/98.6 kB 939.9 kB/s eta 0:00:00\n",
      "Downloading ratelim-0.1.6-py2.py3-none-any.whl (4.0 kB)\n",
      "Installing collected packages: ratelim, geocoder\n",
      "Successfully installed geocoder-1.38.1 ratelim-0.1.6\n"
     ]
    },
    {
     "name": "stderr",
     "output_type": "stream",
     "text": [
      "  WARNING: The script geocode.exe is installed in 'C:\\Users\\praji\\AppData\\Roaming\\Python\\Python311\\Scripts' which is not on PATH.\n",
      "  Consider adding this directory to PATH or, if you prefer to suppress this warning, use --no-warn-script-location.\n"
     ]
    }
   ],
   "source": [
    "!pip install geocoder"
   ]
  },
  {
   "cell_type": "code",
   "execution_count": 7,
   "metadata": {},
   "outputs": [
    {
     "name": "stdout",
     "output_type": "stream",
     "text": [
      "<[OK] Ipinfo - Geocode [Tiruchirappalli, Tamil Nadu, IN]>\n",
      "Your latitude is: 10.8155\n",
      "Your longitude is: 78.6965\n"
     ]
    }
   ],
   "source": [
    "import requests\n",
    "from geopy.geocoders import Nominatim\n",
    "import geocoder\n",
    "\n",
    "# Get your latitude and longitude\n",
    "g = geocoder.ip('me')\n",
    "mylatitude = g.latlng[0]\n",
    "mylongitude = g.latlng[1]\n",
    "\n",
    "# Print your latitude and longitude\n",
    "print(g)\n",
    "print(\"Your latitude is:\", mylatitude)\n",
    "print(\"Your longitude is:\", mylongitude)"
   ]
  },
  {
   "cell_type": "code",
   "execution_count": 36,
   "metadata": {},
   "outputs": [],
   "source": [
    "def find_nearby_hospitals(latitude, longitude):\n",
    "    overpass_url = \"http://overpass-api.de/api/interpreter\"\n",
    "    overpass_query = f\"\"\"\n",
    "    [out:json];\n",
    "    (\n",
    "      node[\"amenity\"=\"hospital\"](around:3000,{latitude},{longitude});\n",
    "      \n",
    "    );\n",
    "    out center;\n",
    "    \"\"\"\n",
    "    response = requests.get(overpass_url, params={'data': overpass_query})\n",
    "    data = response.json()\n",
    "    return data['elements']\n",
    "\n",
    "nearby_hospitals = find_nearby_hospitals(11.091968,76.9523712)\n"
   ]
  },
  {
   "cell_type": "code",
   "execution_count": 37,
   "metadata": {},
   "outputs": [
    {
     "name": "stdout",
     "output_type": "stream",
     "text": [
      "SREC Health Center: Latitude 11.1005451, Longitude 76.9637445\n",
      "Government Urban Primary Health Center: Latitude 11.0827084, Longitude 76.9427442\n",
      "Sri Lakshmi Hospital, Coimbatore: Latitude 11.0782349, Longitude 76.9409348\n",
      "bhagirathi hospital: Latitude 11.0794799, Longitude 76.9409445\n",
      "Sri Maruthi Medical Center and Hospital: Latitude 11.0891666, Longitude 76.9384105\n",
      "V.G. Hospital, Thudiyalur: Latitude 11.0708056, Longitude 76.9419859\n",
      "Hem Hospital- Thudiaylur, Coimbatore: Latitude 11.0757442, Longitude 76.9424139\n",
      "Ramana Gounder Medical Trust Hospital: Latitude 11.0753938, Longitude 76.939234\n",
      "Sai Hospital: Latitude 11.0904781, Longitude 76.9383967\n"
     ]
    }
   ],
   "source": [
    "for hospital in nearby_hospitals:\n",
    "    name = hospital.get('tags', {}).get('name', 'Unknown Hospital')\n",
    "    latitude = hospital.get('lat', '')\n",
    "    longitude = hospital.get('lon', '')\n",
    "    print(f\"{name}: Latitude {latitude}, Longitude {longitude}\")\n"
   ]
  },
  {
   "cell_type": "code",
   "execution_count": 48,
   "metadata": {},
   "outputs": [
    {
     "name": "stdout",
     "output_type": "stream",
     "text": [
      "SREC Health Center: Latitude 11.1005451, Longitude 76.9637445, Distance: 1.53 km\n",
      "2.0\n",
      "Government Urban Primary Health Center: Latitude 11.0827084, Longitude 76.9427442, Distance: 1.53 km\n",
      "2.3\n",
      "Sri Lakshmi Hospital, Coimbatore: Latitude 11.0782349, Longitude 76.9409348, Distance: 1.53 km\n",
      "2.9\n",
      "bhagirathi hospital: Latitude 11.0794799, Longitude 76.9409445, Distance: 1.53 km\n",
      "2.8\n",
      "Sri Maruthi Medical Center and Hospital: Latitude 11.0891666, Longitude 76.9384105, Distance: 1.53 km\n",
      "3.2\n",
      "V.G. Hospital, Thudiyalur: Latitude 11.0708056, Longitude 76.9419859, Distance: 1.53 km\n",
      "4.1\n",
      "Hem Hospital- Thudiaylur, Coimbatore: Latitude 11.0757442, Longitude 76.9424139, Distance: 1.53 km\n",
      "3.2\n",
      "Ramana Gounder Medical Trust Hospital: Latitude 11.0753938, Longitude 76.939234, Distance: 1.53 km\n",
      "3.4\n",
      "Sai Hospital: Latitude 11.0904781, Longitude 76.9383967, Distance: 1.53 km\n",
      "2.1\n"
     ]
    }
   ],
   "source": [
    "import math\n",
    "\n",
    "def haversine(coord1, coord2):\n",
    "    # Radius of the Earth in kilometers\n",
    "    R = 6371.0\n",
    "    \n",
    "    lat1, lon1 = coord1\n",
    "    lat2, lon2 = coord2\n",
    "    \n",
    "    # Convert latitude and longitude from degrees to radians\n",
    "    lat1 = math.radians(lat1)\n",
    "    lon1 = math.radians(lon1)\n",
    "    lat2 = math.radians(lat2)\n",
    "    lon2 = math.radians(lon2)\n",
    "    \n",
    "    # Difference in coordinates\n",
    "    dlat = lat2 - lat1\n",
    "    dlon = lon2 - lon1\n",
    "    \n",
    "    # Haversine formula\n",
    "    a = math.sin(dlat / 2)**2 + math.cos(lat1) * math.cos(lat2) * math.sin(dlon / 2)**2\n",
    "    c = 2 * math.atan2(math.sqrt(a), math.sqrt(1 - a))\n",
    "    \n",
    "    # Distance in kilometers\n",
    "    distance = R * c\n",
    "    \n",
    "    return distance\n",
    "def get_route_distance(route_data):\n",
    "    \"\"\"\n",
    "    Extracts and prints the route distance from the provided route data.\n",
    "\n",
    "    Parameters:\n",
    "    route_data (dict): A dictionary containing route information.\n",
    "\n",
    "    Returns:\n",
    "    float: The route distance in kilometers, rounded to one decimal place.\n",
    "    \"\"\"\n",
    "    # Extract the distance from the route summary\n",
    "    route_distance = route_data['routes'][0]['summary']['distance']\n",
    "    # print(f\"Route distance: {route_distance} meters\")\n",
    "\n",
    "    # Convert distance to kilometers and round to 1 decimal place\n",
    "    route_distance_km = round(route_distance / 1000, 1)\n",
    "    # print(f\"Route distance: {route_distance_km} kilometers\")\n",
    "\n",
    "    return route_distance_km\n",
    "import openrouteservice\n",
    "api_key = '5b3ce3597851110001cf624892a668326ddc448c91eb298bd7822bfc'\n",
    "client = openrouteservice.Client(key=api_key)\n",
    "your_latitude = 11.091968\n",
    "your_longitude = -76.9523712\n",
    "\n",
    "for hospital in nearby_hospitals:\n",
    "    name = hospital.get('tags', {}).get('name', 'Unknown Hospital')\n",
    "    latitude = hospital.get('lat', '')\n",
    "    longitude = hospital.get('lon', '')\n",
    "    # distance_km = haversine((11.091968, 76.95237124),( latitude, longitude))\n",
    "    print(f\"{name}: Latitude {latitude}, Longitude {longitude}, Distance: {distance_km:.2f} km\")\n",
    "    coords = ((76.95237124,11.091968),(  longitude,latitude))\n",
    " # Specify your personal API key\n",
    "    routes = client.directions(coords)\n",
    "    print(get_route_distance(routes))\n",
    "        \n"
   ]
  },
  {
   "cell_type": "code",
   "execution_count": 27,
   "metadata": {},
   "outputs": [
    {
     "name": "stdout",
     "output_type": "stream",
     "text": [
      "{'bbox': [76.941232, 11.069334, 76.953411, 11.094121], 'routes': [{'summary': {'distance': 4052.5, 'duration': 276.2}, 'segments': [{'distance': 4052.5, 'duration': 276.2, 'steps': [{'distance': 161.5, 'duration': 29.1, 'type': 11, 'instruction': 'Head north', 'name': '-', 'way_points': [0, 3]}, {'distance': 97.4, 'duration': 23.4, 'type': 0, 'instruction': 'Turn left', 'name': '-', 'way_points': [3, 4]}, {'distance': 834.3, 'duration': 50.1, 'type': 2, 'instruction': 'Turn sharp left onto Thudiyalur - Kovilpalayam Road, MDR489', 'name': 'Thudiyalur - Kovilpalayam Road, MDR489', 'way_points': [4, 25]}, {'distance': 1014.9, 'duration': 60.9, 'type': 0, 'instruction': 'Turn left onto Thudiyalur - Kovilpalayam Road, MDR489', 'name': 'Thudiyalur - Kovilpalayam Road, MDR489', 'way_points': [25, 57]}, {'distance': 310.8, 'duration': 18.6, 'type': 1, 'instruction': 'Turn right onto Thudiyalur - Kovilpalayam Road, MDR489', 'name': 'Thudiyalur - Kovilpalayam Road, MDR489', 'way_points': [57, 65]}, {'distance': 72.1, 'duration': 17.3, 'type': 1, 'instruction': 'Turn right', 'name': '-', 'way_points': [65, 68]}, {'distance': 1375.1, 'duration': 58.2, 'type': 0, 'instruction': 'Turn left onto Mettupalayam-Coimbatore Road, NH181', 'name': 'Mettupalayam-Coimbatore Road, NH181', 'way_points': [68, 85]}, {'distance': 13.5, 'duration': 4.9, 'type': 1, 'instruction': 'Turn right', 'name': '-', 'way_points': [85, 86]}, {'distance': 173.0, 'duration': 13.8, 'type': 1, 'instruction': 'Turn right onto Coimbatore-Mettupalayam Road, NH181', 'name': 'Coimbatore-Mettupalayam Road, NH181', 'way_points': [86, 87]}, {'distance': 0.0, 'duration': 0.0, 'type': 10, 'instruction': 'Arrive at Coimbatore-Mettupalayam Road, NH181, on the left', 'name': '-', 'way_points': [87, 87]}]}], 'bbox': [76.941232, 11.069334, 76.953411, 11.094121], 'geometry': 'clubAgzttM{@FmD}AS[eDt@`CfD\\\\t@Xt@Pt@z@`EHNNHZDTCrASjAONBJJfAlD^xAL`@NjAh@hCHXRZD`@PDP@hBGpAAL@LFFDXt@tCjJTZNDLBlBDd@Gd@?HAf@?^@H?~@HJB`@`@Jf@BzBFFPLx@AhAAxADjBJL@dBFLTRhBPZl@j@bBvAbB|@t@h@LB@\\\\Jj@Pt@dEy@|@IR?f@?dCMbBA~@GtBG|F]TAbLe@nDQhEUjAEnF_@x@GjGo@BVsHt@', 'way_points': [0, 87]}], 'metadata': {'attribution': 'openrouteservice.org | OpenStreetMap contributors', 'service': 'routing', 'timestamp': 1716093939373, 'query': {'coordinates': [[76.95237124, 11.091968], [76.9419859, 11.0708056]], 'profile': 'driving-car', 'format': 'json'}, 'engine': {'version': '8.0.1', 'build_date': '2024-05-14T10:47:52Z', 'graph_date': '2024-05-14T22:04:28Z'}}}\n"
     ]
    }
   ],
   "source": [
    "import openrouteservice\n",
    "\n",
    "# Replace 'your_api_key' with your actual API key\n",
    "api_key = '5b3ce3597851110001cf624892a668326ddc448c91eb298bd7822bfc'\n",
    "client = openrouteservice.Client(key=api_key)\n",
    "coords = ((76.95237124,11.091968),(  76.9419859,11.0708056))\n",
    "\n",
    " # Specify your personal API key\n",
    "routes = client.directions(coords)\n",
    "\n",
    "print(routes)"
   ]
  },
  {
   "cell_type": "code",
   "execution_count": 42,
   "metadata": {},
   "outputs": [
    {
     "name": "stdout",
     "output_type": "stream",
     "text": [
      "Route distance: 4052.5 meters\n",
      "Route distance: 4.1 kilometers\n"
     ]
    }
   ],
   "source": [
    "route_distance = routes['routes'][0]['summary']['distance']\n",
    "\n",
    "print(f\"Route distance: {route_distance} meters\")\n",
    "route_distance_km = round(route_distance / 1000,1)\n",
    "print(f\"Route distance: {route_distance_km} kilometers\")\n"
   ]
  },
  {
   "cell_type": "code",
   "execution_count": 39,
   "metadata": {},
   "outputs": [
    {
     "name": "stdout",
     "output_type": "stream",
     "text": [
      "Distance: 2.611821989920423 km\n"
     ]
    }
   ],
   "source": [
    "import math\n",
    "\n",
    "def haversine(coord1, coord2):\n",
    "    # Radius of the Earth in kilometers\n",
    "    R = 6371.0\n",
    "    \n",
    "    lat1, lon1 = coord1\n",
    "    lat2, lon2 = coord2\n",
    "    \n",
    "    # Convert latitude and longitude from degrees to radians\n",
    "    lat1 = math.radians(lat1)\n",
    "    lon1 = math.radians(lon1)\n",
    "    lat2 = math.radians(lat2)\n",
    "    lon2 = math.radians(lon2)\n",
    "    \n",
    "    # Difference in coordinates\n",
    "    dlat = lat2 - lat1\n",
    "    dlon = lon2 - lon1\n",
    "    \n",
    "    # Haversine formula\n",
    "    a = math.sin(dlat / 2)**2 + math.cos(lat1) * math.cos(lat2) * math.sin(dlon / 2)**2\n",
    "    c = 2 * math.atan2(math.sqrt(a), math.sqrt(1 - a))\n",
    "    \n",
    "    # Distance in kilometers\n",
    "    distance = R * c\n",
    "    \n",
    "    return distance\n",
    "\n",
    "# Example usage\n",
    "coord1 = (11.091968, 76.95237124)  # (latitude, longitude)\n",
    "coord2 = (11.0708056, 76.9419859)  # (latitude, longitude)\n",
    "\n",
    "distance = haversine(coord1, coord2)\n",
    "print(f\"Distance: {distance} km\")\n"
   ]
  },
  {
   "cell_type": "code",
   "execution_count": 2,
   "metadata": {},
   "outputs": [
    {
     "data": {
      "text/plain": [
       "inf"
      ]
     },
     "execution_count": 2,
     "metadata": {},
     "output_type": "execute_result"
    }
   ],
   "source": [
    "min_distance = float('inf')\n",
    "min_distance"
   ]
  },
  {
   "cell_type": "code",
   "execution_count": 14,
   "metadata": {},
   "outputs": [
    {
     "name": "stdout",
     "output_type": "stream",
     "text": [
      "{'message': 'Specify at least 2 points'}\n"
     ]
    }
   ],
   "source": [
    "import requests\n",
    "\n",
    "url = \"https://graphhopper.com/api/1/route\"\n",
    "\n",
    "query = {\n",
    "  \"profile\": \"car\",\n",
    "  \"point\": \"11.091968,76.95237124,11.091968,76.97237124\",\n",
    "  \"point\": \"11.091968,76.97237124\",\n",
    "  \"key\": \"e329c5ba-9a53-409b-8342-9353dca24f29\"\n",
    "}\n",
    "\n",
    "response = requests.get(url, params=query)\n",
    "\n",
    "data = response.json()\n",
    "print(data)"
   ]
  }
 ],
 "metadata": {
  "kernelspec": {
   "display_name": "base",
   "language": "python",
   "name": "python3"
  },
  "language_info": {
   "codemirror_mode": {
    "name": "ipython",
    "version": 3
   },
   "file_extension": ".py",
   "mimetype": "text/x-python",
   "name": "python",
   "nbconvert_exporter": "python",
   "pygments_lexer": "ipython3",
   "version": "3.11.5"
  }
 },
 "nbformat": 4,
 "nbformat_minor": 2
}
